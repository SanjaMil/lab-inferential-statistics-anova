{
 "cells": [
  {
   "cell_type": "code",
   "execution_count": 1,
   "id": "273f618a",
   "metadata": {},
   "outputs": [],
   "source": [
    "import pandas as pd\n",
    "import numpy as np\n",
    "import scipy.stats as stats"
   ]
  },
  {
   "cell_type": "code",
   "execution_count": 5,
   "id": "63bba574",
   "metadata": {},
   "outputs": [
    {
     "data": {
      "text/html": [
       "<div>\n",
       "<style scoped>\n",
       "    .dataframe tbody tr th:only-of-type {\n",
       "        vertical-align: middle;\n",
       "    }\n",
       "\n",
       "    .dataframe tbody tr th {\n",
       "        vertical-align: top;\n",
       "    }\n",
       "\n",
       "    .dataframe thead th {\n",
       "        text-align: right;\n",
       "    }\n",
       "</style>\n",
       "<table border=\"1\" class=\"dataframe\">\n",
       "  <thead>\n",
       "    <tr style=\"text-align: right;\">\n",
       "      <th></th>\n",
       "      <th>Power</th>\n",
       "      <th>Etching Rate</th>\n",
       "    </tr>\n",
       "  </thead>\n",
       "  <tbody>\n",
       "    <tr>\n",
       "      <th>0</th>\n",
       "      <td>160 W</td>\n",
       "      <td>5.43</td>\n",
       "    </tr>\n",
       "    <tr>\n",
       "      <th>1</th>\n",
       "      <td>180 W</td>\n",
       "      <td>6.24</td>\n",
       "    </tr>\n",
       "    <tr>\n",
       "      <th>2</th>\n",
       "      <td>200 W</td>\n",
       "      <td>8.79</td>\n",
       "    </tr>\n",
       "    <tr>\n",
       "      <th>3</th>\n",
       "      <td>160 W</td>\n",
       "      <td>5.71</td>\n",
       "    </tr>\n",
       "    <tr>\n",
       "      <th>4</th>\n",
       "      <td>180 W</td>\n",
       "      <td>6.71</td>\n",
       "    </tr>\n",
       "    <tr>\n",
       "      <th>5</th>\n",
       "      <td>200 W</td>\n",
       "      <td>9.20</td>\n",
       "    </tr>\n",
       "    <tr>\n",
       "      <th>6</th>\n",
       "      <td>160 W</td>\n",
       "      <td>6.22</td>\n",
       "    </tr>\n",
       "    <tr>\n",
       "      <th>7</th>\n",
       "      <td>180 W</td>\n",
       "      <td>5.98</td>\n",
       "    </tr>\n",
       "    <tr>\n",
       "      <th>8</th>\n",
       "      <td>200 W</td>\n",
       "      <td>7.90</td>\n",
       "    </tr>\n",
       "    <tr>\n",
       "      <th>9</th>\n",
       "      <td>160 W</td>\n",
       "      <td>6.01</td>\n",
       "    </tr>\n",
       "    <tr>\n",
       "      <th>10</th>\n",
       "      <td>180 W</td>\n",
       "      <td>5.66</td>\n",
       "    </tr>\n",
       "    <tr>\n",
       "      <th>11</th>\n",
       "      <td>200 W</td>\n",
       "      <td>8.15</td>\n",
       "    </tr>\n",
       "    <tr>\n",
       "      <th>12</th>\n",
       "      <td>160 W</td>\n",
       "      <td>5.59</td>\n",
       "    </tr>\n",
       "    <tr>\n",
       "      <th>13</th>\n",
       "      <td>180 W</td>\n",
       "      <td>6.60</td>\n",
       "    </tr>\n",
       "    <tr>\n",
       "      <th>14</th>\n",
       "      <td>200 W</td>\n",
       "      <td>7.55</td>\n",
       "    </tr>\n",
       "  </tbody>\n",
       "</table>\n",
       "</div>"
      ],
      "text/plain": [
       "   Power   Etching Rate\n",
       "0   160 W          5.43\n",
       "1   180 W          6.24\n",
       "2   200 W          8.79\n",
       "3   160 W          5.71\n",
       "4   180 W          6.71\n",
       "5   200 W          9.20\n",
       "6   160 W          6.22\n",
       "7   180 W          5.98\n",
       "8   200 W          7.90\n",
       "9   160 W          6.01\n",
       "10  180 W          5.66\n",
       "11  200 W          8.15\n",
       "12  160 W          5.59\n",
       "13  180 W          6.60\n",
       "14  200 W          7.55"
      ]
     },
     "execution_count": 5,
     "metadata": {},
     "output_type": "execute_result"
    }
   ],
   "source": [
    "data = pd.read_excel(r'C:\\Users\\31645\\OneDrive\\Documents\\Ironhack\\LABs\\lab-inferential-statistics-anova\\files_for_lab\\anova_lab_data.xlsx', sheet_name='data_collected')\n",
    "data"
   ]
  },
  {
   "cell_type": "code",
   "execution_count": 6,
   "id": "accf3647",
   "metadata": {},
   "outputs": [
    {
     "data": {
      "text/plain": [
       "Index(['Power ', 'Etching Rate'], dtype='object')"
      ]
     },
     "execution_count": 6,
     "metadata": {},
     "output_type": "execute_result"
    }
   ],
   "source": [
    "data.columns"
   ]
  },
  {
   "cell_type": "code",
   "execution_count": 7,
   "id": "3ca87816",
   "metadata": {},
   "outputs": [],
   "source": [
    "data.columns = ['Power', 'Etching Rate']"
   ]
  },
  {
   "cell_type": "code",
   "execution_count": 8,
   "id": "9d4e518c",
   "metadata": {},
   "outputs": [
    {
     "name": "stdout",
     "output_type": "stream",
     "text": [
      "Global mean 6.782666666666667\n",
      "The group means are:  [('160 W', 5.792), ('180 W', 6.2379999999999995), ('200 W', 8.318)]\n"
     ]
    }
   ],
   "source": [
    "# Global mean:\n",
    "gm = np.mean(data['Etching Rate'])\n",
    "print(\"Global mean\",gm)\n",
    "\n",
    "# Mean of every group:\n",
    "group_averages = [(group,np.mean(data[data['Power'] == group]['Etching Rate'])) for group in list(data['Power'].unique())] \n",
    "print(\"The group means are: \",group_averages)"
   ]
  },
  {
   "cell_type": "code",
   "execution_count": 9,
   "id": "61ad476d",
   "metadata": {},
   "outputs": [
    {
     "data": {
      "text/plain": [
       "['160 W', '180 W', '200 W']"
      ]
     },
     "execution_count": 9,
     "metadata": {},
     "output_type": "execute_result"
    }
   ],
   "source": [
    "[group for group in data['Power'].unique()]"
   ]
  },
  {
   "cell_type": "code",
   "execution_count": 10,
   "id": "4e67d9f0",
   "metadata": {},
   "outputs": [
    {
     "name": "stdout",
     "output_type": "stream",
     "text": [
      "The group means are:  [('160 W', 5.792), ('180 W', 6.2379999999999995), ('200 W', 8.318)]\n"
     ]
    }
   ],
   "source": [
    "# Mean of every group:\n",
    "group_averages = [(group,np.mean(data[data['Power'] == group]['Etching Rate'])) for group in list(data['Power'].unique())] \n",
    "print(\"The group means are: \",group_averages)"
   ]
  },
  {
   "cell_type": "code",
   "execution_count": 13,
   "id": "9b244899",
   "metadata": {},
   "outputs": [
    {
     "name": "stdout",
     "output_type": "stream",
     "text": [
      "\\hat{S}_{t}^{2} is:  9.088326666666667\n"
     ]
    }
   ],
   "source": [
    "numerator = 0\n",
    "for group in group_averages:\n",
    "    numerator += len(data[data['Power'] == group[0]]['Etching Rate'].values) * ( group[1] - gm )**2\n",
    "numerator = numerator / ( len(data['Power'].unique()) - 1 ) \n",
    "\n",
    "print(\"\\hat{S}_{t}^{2} is: \", numerator)"
   ]
  },
  {
   "cell_type": "code",
   "execution_count": 15,
   "id": "84a4b154",
   "metadata": {},
   "outputs": [
    {
     "name": "stdout",
     "output_type": "stream",
     "text": [
      "\\hat{S}_{e}^{2} is:  0.24643666666666644\n"
     ]
    }
   ],
   "source": [
    "denominator = 0\n",
    "for group in group_averages: \n",
    "    for value in data[data['Power'] == group[0]]['Etching Rate'].values:\n",
    "        denominator += (value - group[1])**2\n",
    "denominator = denominator / ( len(data) - len(data['Power'].unique()) )\n",
    "\n",
    "print(\"\\hat{S}_{e}^{2} is: \",denominator)"
   ]
  },
  {
   "cell_type": "code",
   "execution_count": 16,
   "id": "144746c1",
   "metadata": {},
   "outputs": [],
   "source": [
    "F_stat = numerator / denominator"
   ]
  },
  {
   "cell_type": "code",
   "execution_count": 17,
   "id": "35b5bc21",
   "metadata": {},
   "outputs": [
    {
     "data": {
      "text/plain": [
       "F_onewayResult(statistic=36.87895470100505, pvalue=7.506584272358903e-06)"
      ]
     },
     "execution_count": 17,
     "metadata": {},
     "output_type": "execute_result"
    }
   ],
   "source": [
    "import scipy.stats as stats\n",
    "\n",
    "stats.f_oneway(data['Etching Rate'][data['Power'] == '160 W'],\n",
    "              data['Etching Rate'][data['Power'] == '180 W'],\n",
    "               data['Etching Rate'][data['Power'] == '200 W']          \n",
    "              )"
   ]
  },
  {
   "cell_type": "code",
   "execution_count": null,
   "id": "b4b771ee",
   "metadata": {},
   "outputs": [],
   "source": []
  }
 ],
 "metadata": {
  "kernelspec": {
   "display_name": "Python 3 (ipykernel)",
   "language": "python",
   "name": "python3"
  },
  "language_info": {
   "codemirror_mode": {
    "name": "ipython",
    "version": 3
   },
   "file_extension": ".py",
   "mimetype": "text/x-python",
   "name": "python",
   "nbconvert_exporter": "python",
   "pygments_lexer": "ipython3",
   "version": "3.9.6"
  }
 },
 "nbformat": 4,
 "nbformat_minor": 5
}
